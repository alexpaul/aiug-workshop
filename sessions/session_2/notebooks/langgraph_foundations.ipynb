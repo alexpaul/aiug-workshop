{
 "cells": [
  {
   "cell_type": "code",
   "execution_count": 1,
   "metadata": {},
   "outputs": [
    {
     "name": "stdout",
     "output_type": "stream",
     "text": [
      "Requirement already satisfied: langchain-community in /Users/rickchakra/Projects/aiug_workshop/venv/lib/python3.9/site-packages (0.2.7)\n",
      "Requirement already satisfied: langgraph in /Users/rickchakra/Projects/aiug_workshop/venv/lib/python3.9/site-packages (0.1.8)\n",
      "Requirement already satisfied: langchain-openai in /Users/rickchakra/Projects/aiug_workshop/venv/lib/python3.9/site-packages (0.1.16)\n",
      "Requirement already satisfied: tavily-python in /Users/rickchakra/Projects/aiug_workshop/venv/lib/python3.9/site-packages (0.3.4)\n",
      "Requirement already satisfied: PyYAML>=5.3 in /Users/rickchakra/Projects/aiug_workshop/venv/lib/python3.9/site-packages (from langchain-community) (6.0.1)\n",
      "Requirement already satisfied: SQLAlchemy<3,>=1.4 in /Users/rickchakra/Projects/aiug_workshop/venv/lib/python3.9/site-packages (from langchain-community) (2.0.31)\n",
      "Requirement already satisfied: aiohttp<4.0.0,>=3.8.3 in /Users/rickchakra/Projects/aiug_workshop/venv/lib/python3.9/site-packages (from langchain-community) (3.9.5)\n",
      "Requirement already satisfied: dataclasses-json<0.7,>=0.5.7 in /Users/rickchakra/Projects/aiug_workshop/venv/lib/python3.9/site-packages (from langchain-community) (0.6.7)\n",
      "Requirement already satisfied: langchain<0.3.0,>=0.2.7 in /Users/rickchakra/Projects/aiug_workshop/venv/lib/python3.9/site-packages (from langchain-community) (0.2.7)\n",
      "Requirement already satisfied: langchain-core<0.3.0,>=0.2.12 in /Users/rickchakra/Projects/aiug_workshop/venv/lib/python3.9/site-packages (from langchain-community) (0.2.17)\n",
      "Requirement already satisfied: langsmith<0.2.0,>=0.1.0 in /Users/rickchakra/Projects/aiug_workshop/venv/lib/python3.9/site-packages (from langchain-community) (0.1.85)\n",
      "Requirement already satisfied: numpy<2,>=1 in /Users/rickchakra/Projects/aiug_workshop/venv/lib/python3.9/site-packages (from langchain-community) (1.26.4)\n",
      "Requirement already satisfied: requests<3,>=2 in /Users/rickchakra/Projects/aiug_workshop/venv/lib/python3.9/site-packages (from langchain-community) (2.32.3)\n",
      "Requirement already satisfied: tenacity!=8.4.0,<9.0.0,>=8.1.0 in /Users/rickchakra/Projects/aiug_workshop/venv/lib/python3.9/site-packages (from langchain-community) (8.5.0)\n",
      "Requirement already satisfied: openai<2.0.0,>=1.32.0 in /Users/rickchakra/Projects/aiug_workshop/venv/lib/python3.9/site-packages (from langchain-openai) (1.35.10)\n",
      "Requirement already satisfied: tiktoken<1,>=0.7 in /Users/rickchakra/Projects/aiug_workshop/venv/lib/python3.9/site-packages (from langchain-openai) (0.7.0)\n",
      "Requirement already satisfied: httpx in /Users/rickchakra/Projects/aiug_workshop/venv/lib/python3.9/site-packages (from tavily-python) (0.27.0)\n",
      "Requirement already satisfied: aiosignal>=1.1.2 in /Users/rickchakra/Projects/aiug_workshop/venv/lib/python3.9/site-packages (from aiohttp<4.0.0,>=3.8.3->langchain-community) (1.3.1)\n",
      "Requirement already satisfied: attrs>=17.3.0 in /Users/rickchakra/Projects/aiug_workshop/venv/lib/python3.9/site-packages (from aiohttp<4.0.0,>=3.8.3->langchain-community) (23.2.0)\n",
      "Requirement already satisfied: frozenlist>=1.1.1 in /Users/rickchakra/Projects/aiug_workshop/venv/lib/python3.9/site-packages (from aiohttp<4.0.0,>=3.8.3->langchain-community) (1.4.1)\n",
      "Requirement already satisfied: multidict<7.0,>=4.5 in /Users/rickchakra/Projects/aiug_workshop/venv/lib/python3.9/site-packages (from aiohttp<4.0.0,>=3.8.3->langchain-community) (6.0.5)\n",
      "Requirement already satisfied: yarl<2.0,>=1.0 in /Users/rickchakra/Projects/aiug_workshop/venv/lib/python3.9/site-packages (from aiohttp<4.0.0,>=3.8.3->langchain-community) (1.9.4)\n",
      "Requirement already satisfied: async-timeout<5.0,>=4.0 in /Users/rickchakra/Projects/aiug_workshop/venv/lib/python3.9/site-packages (from aiohttp<4.0.0,>=3.8.3->langchain-community) (4.0.3)\n",
      "Requirement already satisfied: marshmallow<4.0.0,>=3.18.0 in /Users/rickchakra/Projects/aiug_workshop/venv/lib/python3.9/site-packages (from dataclasses-json<0.7,>=0.5.7->langchain-community) (3.21.3)\n",
      "Requirement already satisfied: typing-inspect<1,>=0.4.0 in /Users/rickchakra/Projects/aiug_workshop/venv/lib/python3.9/site-packages (from dataclasses-json<0.7,>=0.5.7->langchain-community) (0.9.0)\n",
      "Requirement already satisfied: langchain-text-splitters<0.3.0,>=0.2.0 in /Users/rickchakra/Projects/aiug_workshop/venv/lib/python3.9/site-packages (from langchain<0.3.0,>=0.2.7->langchain-community) (0.2.2)\n",
      "Requirement already satisfied: pydantic<3,>=1 in /Users/rickchakra/Projects/aiug_workshop/venv/lib/python3.9/site-packages (from langchain<0.3.0,>=0.2.7->langchain-community) (2.8.2)\n",
      "Requirement already satisfied: jsonpatch<2.0,>=1.33 in /Users/rickchakra/Projects/aiug_workshop/venv/lib/python3.9/site-packages (from langchain-core<0.3.0,>=0.2.12->langchain-community) (1.33)\n",
      "Requirement already satisfied: packaging<25,>=23.2 in /Users/rickchakra/Projects/aiug_workshop/venv/lib/python3.9/site-packages (from langchain-core<0.3.0,>=0.2.12->langchain-community) (24.1)\n",
      "Requirement already satisfied: orjson<4.0.0,>=3.9.14 in /Users/rickchakra/Projects/aiug_workshop/venv/lib/python3.9/site-packages (from langsmith<0.2.0,>=0.1.0->langchain-community) (3.10.6)\n",
      "Requirement already satisfied: anyio<5,>=3.5.0 in /Users/rickchakra/Projects/aiug_workshop/venv/lib/python3.9/site-packages (from openai<2.0.0,>=1.32.0->langchain-openai) (4.4.0)\n",
      "Requirement already satisfied: distro<2,>=1.7.0 in /Users/rickchakra/Projects/aiug_workshop/venv/lib/python3.9/site-packages (from openai<2.0.0,>=1.32.0->langchain-openai) (1.9.0)\n",
      "Requirement already satisfied: sniffio in /Users/rickchakra/Projects/aiug_workshop/venv/lib/python3.9/site-packages (from openai<2.0.0,>=1.32.0->langchain-openai) (1.3.1)\n",
      "Requirement already satisfied: tqdm>4 in /Users/rickchakra/Projects/aiug_workshop/venv/lib/python3.9/site-packages (from openai<2.0.0,>=1.32.0->langchain-openai) (4.66.4)\n",
      "Requirement already satisfied: typing-extensions<5,>=4.7 in /Users/rickchakra/Projects/aiug_workshop/venv/lib/python3.9/site-packages (from openai<2.0.0,>=1.32.0->langchain-openai) (4.12.2)\n",
      "Requirement already satisfied: certifi in /Users/rickchakra/Projects/aiug_workshop/venv/lib/python3.9/site-packages (from httpx->tavily-python) (2024.7.4)\n",
      "Requirement already satisfied: httpcore==1.* in /Users/rickchakra/Projects/aiug_workshop/venv/lib/python3.9/site-packages (from httpx->tavily-python) (1.0.5)\n",
      "Requirement already satisfied: idna in /Users/rickchakra/Projects/aiug_workshop/venv/lib/python3.9/site-packages (from httpx->tavily-python) (3.7)\n",
      "Requirement already satisfied: h11<0.15,>=0.13 in /Users/rickchakra/Projects/aiug_workshop/venv/lib/python3.9/site-packages (from httpcore==1.*->httpx->tavily-python) (0.14.0)\n",
      "Requirement already satisfied: charset-normalizer<4,>=2 in /Users/rickchakra/Projects/aiug_workshop/venv/lib/python3.9/site-packages (from requests<3,>=2->langchain-community) (3.3.2)\n",
      "Requirement already satisfied: urllib3<3,>=1.21.1 in /Users/rickchakra/Projects/aiug_workshop/venv/lib/python3.9/site-packages (from requests<3,>=2->langchain-community) (2.2.2)\n",
      "Requirement already satisfied: regex>=2022.1.18 in /Users/rickchakra/Projects/aiug_workshop/venv/lib/python3.9/site-packages (from tiktoken<1,>=0.7->langchain-openai) (2024.5.15)\n",
      "Requirement already satisfied: exceptiongroup>=1.0.2 in /Users/rickchakra/Projects/aiug_workshop/venv/lib/python3.9/site-packages (from anyio<5,>=3.5.0->openai<2.0.0,>=1.32.0->langchain-openai) (1.2.1)\n",
      "Requirement already satisfied: jsonpointer>=1.9 in /Users/rickchakra/Projects/aiug_workshop/venv/lib/python3.9/site-packages (from jsonpatch<2.0,>=1.33->langchain-core<0.3.0,>=0.2.12->langchain-community) (3.0.0)\n",
      "Requirement already satisfied: annotated-types>=0.4.0 in /Users/rickchakra/Projects/aiug_workshop/venv/lib/python3.9/site-packages (from pydantic<3,>=1->langchain<0.3.0,>=0.2.7->langchain-community) (0.7.0)\n",
      "Requirement already satisfied: pydantic-core==2.20.1 in /Users/rickchakra/Projects/aiug_workshop/venv/lib/python3.9/site-packages (from pydantic<3,>=1->langchain<0.3.0,>=0.2.7->langchain-community) (2.20.1)\n",
      "Requirement already satisfied: mypy-extensions>=0.3.0 in /Users/rickchakra/Projects/aiug_workshop/venv/lib/python3.9/site-packages (from typing-inspect<1,>=0.4.0->dataclasses-json<0.7,>=0.5.7->langchain-community) (1.0.0)\n",
      "Note: you may need to restart the kernel to use updated packages.\n"
     ]
    }
   ],
   "source": [
    "%pip install -U langchain-community langgraph langchain-openai tavily-python"
   ]
  },
  {
   "cell_type": "code",
   "execution_count": 14,
   "metadata": {},
   "outputs": [],
   "source": [
    "import getpass\n",
    "import os\n",
    "\n",
    "os.environ[\"LANGCHAIN_TRACING_V2\"] = \"true\"\n",
    "os.environ[\"LANGCHAIN_API_KEY\"] = getpass.getpass()"
   ]
  },
  {
   "cell_type": "code",
   "execution_count": 15,
   "metadata": {},
   "outputs": [],
   "source": [
    "import getpass\n",
    "import os\n",
    "\n",
    "os.environ[\"TAVILY_API_KEY\"] = getpass.getpass()"
   ]
  },
  {
   "cell_type": "code",
   "execution_count": 16,
   "metadata": {},
   "outputs": [
    {
     "name": "stdout",
     "output_type": "stream",
     "text": [
      "[{'url': 'https://www.weatherapi.com/', 'content': \"{'location': {'name': 'San Francisco', 'region': 'California', 'country': 'United States of America', 'lat': 37.78, 'lon': -122.42, 'tz_id': 'America/Los_Angeles', 'localtime_epoch': 1721082613, 'localtime': '2024-07-15 15:30'}, 'current': {'last_updated_epoch': 1721081700, 'last_updated': '2024-07-15 15:15', 'temp_c': 21.7, 'temp_f': 71.1, 'is_day': 1, 'condition': {'text': 'Partly cloudy', 'icon': '//cdn.weatherapi.com/weather/64x64/day/116.png', 'code': 1003}, 'wind_mph': 15.0, 'wind_kph': 24.1, 'wind_degree': 290, 'wind_dir': 'WNW', 'pressure_mb': 1017.0, 'pressure_in': 30.04, 'precip_mm': 0.0, 'precip_in': 0.0, 'humidity': 55, 'cloud': 25, 'feelslike_c': 21.7, 'feelslike_f': 71.1, 'windchill_c': 17.5, 'windchill_f': 63.5, 'heatindex_c': 17.5, 'heatindex_f': 63.5, 'dewpoint_c': 11.9, 'dewpoint_f': 53.5, 'vis_km': 16.0, 'vis_miles': 9.0, 'uv': 5.0, 'gust_mph': 19.5, 'gust_kph': 31.3}}\"}, {'url': 'https://www.wunderground.com/hourly/us/ca/san-francisco/date/2024-07-14', 'content': 'San Francisco Weather Forecasts. Weather Underground provides local & long-range weather forecasts, weatherreports, maps & tropical weather conditions for the San Francisco area.'}]\n"
     ]
    }
   ],
   "source": [
    "from langchain_community.tools.tavily_search import TavilySearchResults\n",
    "\n",
    "# define search tool\n",
    "\n",
    "search = TavilySearchResults(max_results=2)\n",
    "search_results = search.invoke(\"what is the weather in SF\")\n",
    "print(search_results)\n",
    "# If we want, we can create other tools.\n",
    "# Once we have all the tools we want, we can put them in a list that we will reference later.\n",
    "tools = [search]"
   ]
  },
  {
   "cell_type": "code",
   "execution_count": 5,
   "metadata": {},
   "outputs": [
    {
     "name": "stdout",
     "output_type": "stream",
     "text": [
      "Note: you may need to restart the kernel to use updated packages.\n"
     ]
    }
   ],
   "source": [
    "pip install -qU langchain-openai"
   ]
  },
  {
   "cell_type": "code",
   "execution_count": 17,
   "metadata": {},
   "outputs": [],
   "source": [
    "import getpass\n",
    "import os\n",
    "\n",
    "os.environ[\"OPENAI_API_KEY\"] = getpass.getpass()\n",
    "\n",
    "from langchain_openai import ChatOpenAI\n",
    "\n",
    "model = ChatOpenAI(model=\"gpt-4o\")"
   ]
  },
  {
   "cell_type": "code",
   "execution_count": 18,
   "metadata": {},
   "outputs": [
    {
     "data": {
      "text/plain": [
       "'Hello! How can I assist you today?'"
      ]
     },
     "execution_count": 18,
     "metadata": {},
     "output_type": "execute_result"
    }
   ],
   "source": [
    "from langchain_core.messages import HumanMessage\n",
    "\n",
    "response = model.invoke([HumanMessage(content=\"hi!\")])\n",
    "response.content"
   ]
  },
  {
   "cell_type": "code",
   "execution_count": 19,
   "metadata": {},
   "outputs": [],
   "source": [
    "# bind tools with model\n",
    "model_with_tools = model.bind_tools(tools)"
   ]
  },
  {
   "cell_type": "code",
   "execution_count": 20,
   "metadata": {},
   "outputs": [
    {
     "name": "stdout",
     "output_type": "stream",
     "text": [
      "ContentString: Hello! How can I assist you today?\n",
      "ToolCalls: []\n"
     ]
    }
   ],
   "source": [
    "# check response of model with search tool (no tool call)\n",
    "response = model_with_tools.invoke([HumanMessage(content=\"Hi!\")])\n",
    "\n",
    "print(f\"ContentString: {response.content}\")\n",
    "print(f\"ToolCalls: {response.tool_calls}\")"
   ]
  },
  {
   "cell_type": "code",
   "execution_count": 21,
   "metadata": {},
   "outputs": [
    {
     "name": "stdout",
     "output_type": "stream",
     "text": [
      "ContentString: \n",
      "ToolCalls: [{'name': 'tavily_search_results_json', 'args': {'query': 'current weather in New York City'}, 'id': 'call_BmQGIBDukSRhioaK2pzNkgae', 'type': 'tool_call'}]\n"
     ]
    }
   ],
   "source": [
    "# check response of model with search tool (tool call)\n",
    "response = model_with_tools.invoke([HumanMessage(content=\"What's the weather in new york city?\")])\n",
    "\n",
    "print(f\"ContentString: {response.content}\")\n",
    "print(f\"ToolCalls: {response.tool_calls}\")"
   ]
  },
  {
   "cell_type": "code",
   "execution_count": 11,
   "metadata": {},
   "outputs": [],
   "source": [
    "from langgraph.prebuilt import create_react_agent\n",
    "\n",
    "#use prebuilt ReAct agent\n",
    "agent_executor = create_react_agent(model, tools)"
   ]
  },
  {
   "cell_type": "code",
   "execution_count": 12,
   "metadata": {},
   "outputs": [
    {
     "data": {
      "text/plain": [
       "[HumanMessage(content='hi!', id='3749604e-ea44-4099-9a58-755ac1ed5216'),\n",
       " AIMessage(content='Hello! How can I assist you today?', response_metadata={'token_usage': {'completion_tokens': 10, 'prompt_tokens': 81, 'total_tokens': 91}, 'model_name': 'gpt-4o-2024-05-13', 'system_fingerprint': 'fp_dd932ca5d1', 'finish_reason': 'stop', 'logprobs': None}, id='run-5522f594-1aaf-49ef-bd2f-e2d1f94d1b2a-0', usage_metadata={'input_tokens': 81, 'output_tokens': 10, 'total_tokens': 91})]"
      ]
     },
     "execution_count": 12,
     "metadata": {},
     "output_type": "execute_result"
    }
   ],
   "source": [
    "# test agent response (no tool call)\n",
    "response = agent_executor.invoke({\"messages\": [HumanMessage(content=\"hi!\")]})\n",
    "\n",
    "response[\"messages\"]"
   ]
  },
  {
   "cell_type": "code",
   "execution_count": 13,
   "metadata": {},
   "outputs": [
    {
     "data": {
      "text/plain": [
       "[HumanMessage(content='whats the weather in new york city?', id='37f6d006-2e4b-4ce6-b6a6-e894f425806f'),\n",
       " AIMessage(content='', additional_kwargs={'tool_calls': [{'id': 'call_MNa2XEcpF11HAMxhXL0wbl4b', 'function': {'arguments': '{\"query\":\"current weather in New York City\"}', 'name': 'tavily_search_results_json'}, 'type': 'function'}]}, response_metadata={'token_usage': {'completion_tokens': 23, 'prompt_tokens': 88, 'total_tokens': 111}, 'model_name': 'gpt-4o-2024-05-13', 'system_fingerprint': 'fp_d33f7b429e', 'finish_reason': 'tool_calls', 'logprobs': None}, id='run-eee4b69c-a60a-4a42-aa4b-50b6888be4f5-0', tool_calls=[{'name': 'tavily_search_results_json', 'args': {'query': 'current weather in New York City'}, 'id': 'call_MNa2XEcpF11HAMxhXL0wbl4b', 'type': 'tool_call'}], usage_metadata={'input_tokens': 88, 'output_tokens': 23, 'total_tokens': 111}),\n",
       " ToolMessage(content='[{\"url\": \"https://www.weatherapi.com/\", \"content\": \"{\\'location\\': {\\'name\\': \\'New York\\', \\'region\\': \\'New York\\', \\'country\\': \\'United States of America\\', \\'lat\\': 40.71, \\'lon\\': -74.01, \\'tz_id\\': \\'America/New_York\\', \\'localtime_epoch\\': 1721080042, \\'localtime\\': \\'2024-07-15 17:47\\'}, \\'current\\': {\\'last_updated_epoch\\': 1721079900, \\'last_updated\\': \\'2024-07-15 17:45\\', \\'temp_c\\': 31.1, \\'temp_f\\': 88.0, \\'is_day\\': 1, \\'condition\\': {\\'text\\': \\'Sunny\\', \\'icon\\': \\'//cdn.weatherapi.com/weather/64x64/day/113.png\\', \\'code\\': 1000}, \\'wind_mph\\': 2.2, \\'wind_kph\\': 3.6, \\'wind_degree\\': 239, \\'wind_dir\\': \\'WSW\\', \\'pressure_mb\\': 1010.0, \\'pressure_in\\': 29.82, \\'precip_mm\\': 0.0, \\'precip_in\\': 0.0, \\'humidity\\': 66, \\'cloud\\': 0, \\'feelslike_c\\': 31.1, \\'feelslike_f\\': 88.0, \\'windchill_c\\': 34.5, \\'windchill_f\\': 94.1, \\'heatindex_c\\': 36.4, \\'heatindex_f\\': 97.5, \\'dewpoint_c\\': 17.8, \\'dewpoint_f\\': 64.0, \\'vis_km\\': 14.0, \\'vis_miles\\': 8.0, \\'uv\\': 8.0, \\'gust_mph\\': 13.0, \\'gust_kph\\': 21.0}}\"}, {\"url\": \"https://www.wunderground.com/hourly/us/ny/new-york-downtown-manhattan-w/11214/date/2024-7-15\", \"content\": \"New York City Weather Forecasts. Weather Underground provides local & long-range weather forecasts, weatherreports, maps & tropical weather conditions for the New York City area. ... Monday 07/15 ...\"}]', name='tavily_search_results_json', id='f5618eee-3758-4bd3-b6c3-c6e5482d425b', tool_call_id='call_MNa2XEcpF11HAMxhXL0wbl4b'),\n",
       " AIMessage(content='The current weather in New York City is as follows:\\n- **Temperature**: 31.1°C (88.0°F)\\n- **Condition**: Sunny\\n- **Wind**: 2.2 mph (3.6 kph) coming from the west-southwest (WSW)\\n- **Humidity**: 66%\\n- **Pressure**: 1010.0 mb (29.82 in)\\n- **Visibility**: 14.0 km (8.0 miles)\\n- **UV Index**: 8.0\\n\\n![Weather icon](//cdn.weatherapi.com/weather/64x64/day/113.png)', response_metadata={'token_usage': {'completion_tokens': 134, 'prompt_tokens': 609, 'total_tokens': 743}, 'model_name': 'gpt-4o-2024-05-13', 'system_fingerprint': 'fp_d33f7b429e', 'finish_reason': 'stop', 'logprobs': None}, id='run-5789b150-ded6-4136-ab53-1c674f78b440-0', usage_metadata={'input_tokens': 609, 'output_tokens': 134, 'total_tokens': 743})]"
      ]
     },
     "execution_count": 13,
     "metadata": {},
     "output_type": "execute_result"
    }
   ],
   "source": [
    "# test agent response (tool call)\n",
    "response = agent_executor.invoke(\n",
    "    {\"messages\": [HumanMessage(content=\"whats the weather in new york city?\")]}\n",
    ")\n",
    "response[\"messages\"]"
   ]
  },
  {
   "cell_type": "code",
   "execution_count": null,
   "metadata": {},
   "outputs": [],
   "source": []
  }
 ],
 "metadata": {
  "kernelspec": {
   "display_name": "venv",
   "language": "python",
   "name": "python3"
  },
  "language_info": {
   "codemirror_mode": {
    "name": "ipython",
    "version": 3
   },
   "file_extension": ".py",
   "mimetype": "text/x-python",
   "name": "python",
   "nbconvert_exporter": "python",
   "pygments_lexer": "ipython3",
   "version": "3.9.6"
  }
 },
 "nbformat": 4,
 "nbformat_minor": 2
}
